{
 "cells": [
  {
   "cell_type": "code",
   "execution_count": 1,
   "metadata": {},
   "outputs": [],
   "source": [
    "import numpy as np\n",
    "import matplotlib.pyplot as plt\n",
    "from scipy.integrate import solve_ivp\n",
    "import organs.system as system\n",
    "from organs.index import Index"
   ]
  },
  {
   "cell_type": "code",
   "execution_count": 2,
   "metadata": {},
   "outputs": [
    {
     "ename": "ValueError",
     "evalue": "`y0` must be 1-dimensional.",
     "output_type": "error",
     "traceback": [
      "\u001b[31m---------------------------------------------------------------------------\u001b[39m",
      "\u001b[31mValueError\u001b[39m                                Traceback (most recent call last)",
      "\u001b[36mCell\u001b[39m\u001b[36m \u001b[39m\u001b[32mIn[2]\u001b[39m\u001b[32m, line 74\u001b[39m\n\u001b[32m     72\u001b[39m solution = simulate(breakfast_time, y0)\n\u001b[32m     73\u001b[39m y0 = lunch(solution.y[-\u001b[32m1\u001b[39m, :])\n\u001b[32m---> \u001b[39m\u001b[32m74\u001b[39m solution = \u001b[43msimulate\u001b[49m\u001b[43m(\u001b[49m\u001b[43mlunch_time\u001b[49m\u001b[43m,\u001b[49m\u001b[43m \u001b[49m\u001b[43my0\u001b[49m\u001b[43m)\u001b[49m\n\u001b[32m     75\u001b[39m y0 = dinner(solution.y[-\u001b[32m1\u001b[39m, :])\n\u001b[32m     76\u001b[39m solution = simulate(dinner_time, y0)\n",
      "\u001b[36mCell\u001b[39m\u001b[36m \u001b[39m\u001b[32mIn[2]\u001b[39m\u001b[32m, line 59\u001b[39m, in \u001b[36msimulate\u001b[39m\u001b[34m(t_span, y0)\u001b[39m\n\u001b[32m     57\u001b[39m \u001b[38;5;28;01massert\u001b[39;00m \u001b[38;5;28mlen\u001b[39m(t_span) == \u001b[32m2\u001b[39m\n\u001b[32m     58\u001b[39m t_eval = np.linspace(*t_span, t_span[\u001b[32m1\u001b[39m] - t_span[\u001b[32m0\u001b[39m])\n\u001b[32m---> \u001b[39m\u001b[32m59\u001b[39m solution = \u001b[43msolve_ivp\u001b[49m\u001b[43m(\u001b[49m\u001b[43mfun\u001b[49m\u001b[43m=\u001b[49m\u001b[38;5;28;43;01mlambda\u001b[39;49;00m\u001b[43m \u001b[49m\u001b[43mt\u001b[49m\u001b[43m,\u001b[49m\u001b[43m \u001b[49m\u001b[43my\u001b[49m\u001b[43m:\u001b[49m\u001b[43m \u001b[49m\u001b[43msystem\u001b[49m\u001b[43m.\u001b[49m\u001b[43msystem\u001b[49m\u001b[43m(\u001b[49m\u001b[43mt\u001b[49m\u001b[43m,\u001b[49m\u001b[43m \u001b[49m\u001b[43my\u001b[49m\u001b[43m,\u001b[49m\u001b[43m \u001b[49m\u001b[43mp\u001b[49m\u001b[43m)\u001b[49m\u001b[43m,\u001b[49m\n\u001b[32m     60\u001b[39m \u001b[43m                    \u001b[49m\u001b[43mt_span\u001b[49m\u001b[43m=\u001b[49m\u001b[43mt_span\u001b[49m\u001b[43m,\u001b[49m\n\u001b[32m     61\u001b[39m \u001b[43m                    \u001b[49m\u001b[43my0\u001b[49m\u001b[43m=\u001b[49m\u001b[43my0\u001b[49m\u001b[43m,\u001b[49m\n\u001b[32m     62\u001b[39m \u001b[43m                    \u001b[49m\u001b[43mt_eval\u001b[49m\u001b[43m=\u001b[49m\u001b[43mt_eval\u001b[49m\u001b[43m,\u001b[49m\n\u001b[32m     63\u001b[39m \u001b[43m                    \u001b[49m\u001b[43mmethod\u001b[49m\u001b[43m=\u001b[49m\u001b[33;43m'\u001b[39;49m\u001b[33;43mLSODA\u001b[39;49m\u001b[33;43m'\u001b[39;49m\u001b[43m)\u001b[49m\n\u001b[32m     64\u001b[39m \u001b[38;5;28;01mreturn\u001b[39;00m solution\n",
      "\u001b[36mFile \u001b[39m\u001b[32m~\\AppData\\Local\\Packages\\PythonSoftwareFoundation.Python.3.11_qbz5n2kfra8p0\\LocalCache\\local-packages\\Python311\\site-packages\\scipy\\integrate\\_ivp\\ivp.py:621\u001b[39m, in \u001b[36msolve_ivp\u001b[39m\u001b[34m(fun, t_span, y0, method, t_eval, dense_output, events, vectorized, args, **options)\u001b[39m\n\u001b[32m    618\u001b[39m \u001b[38;5;28;01mif\u001b[39;00m method \u001b[38;5;129;01min\u001b[39;00m METHODS:\n\u001b[32m    619\u001b[39m     method = METHODS[method]\n\u001b[32m--> \u001b[39m\u001b[32m621\u001b[39m solver = \u001b[43mmethod\u001b[49m\u001b[43m(\u001b[49m\u001b[43mfun\u001b[49m\u001b[43m,\u001b[49m\u001b[43m \u001b[49m\u001b[43mt0\u001b[49m\u001b[43m,\u001b[49m\u001b[43m \u001b[49m\u001b[43my0\u001b[49m\u001b[43m,\u001b[49m\u001b[43m \u001b[49m\u001b[43mtf\u001b[49m\u001b[43m,\u001b[49m\u001b[43m \u001b[49m\u001b[43mvectorized\u001b[49m\u001b[43m=\u001b[49m\u001b[43mvectorized\u001b[49m\u001b[43m,\u001b[49m\u001b[43m \u001b[49m\u001b[43m*\u001b[49m\u001b[43m*\u001b[49m\u001b[43moptions\u001b[49m\u001b[43m)\u001b[49m\n\u001b[32m    623\u001b[39m \u001b[38;5;28;01mif\u001b[39;00m t_eval \u001b[38;5;129;01mis\u001b[39;00m \u001b[38;5;28;01mNone\u001b[39;00m:\n\u001b[32m    624\u001b[39m     ts = [t0]\n",
      "\u001b[36mFile \u001b[39m\u001b[32m~\\AppData\\Local\\Packages\\PythonSoftwareFoundation.Python.3.11_qbz5n2kfra8p0\\LocalCache\\local-packages\\Python311\\site-packages\\scipy\\integrate\\_ivp\\lsoda.py:122\u001b[39m, in \u001b[36mLSODA.__init__\u001b[39m\u001b[34m(self, fun, t0, y0, t_bound, first_step, min_step, max_step, rtol, atol, jac, lband, uband, vectorized, **extraneous)\u001b[39m\n\u001b[32m    118\u001b[39m \u001b[38;5;28;01mdef\u001b[39;00m\u001b[38;5;250m \u001b[39m\u001b[34m__init__\u001b[39m(\u001b[38;5;28mself\u001b[39m, fun, t0, y0, t_bound, first_step=\u001b[38;5;28;01mNone\u001b[39;00m, min_step=\u001b[32m0.0\u001b[39m,\n\u001b[32m    119\u001b[39m              max_step=np.inf, rtol=\u001b[32m1e-3\u001b[39m, atol=\u001b[32m1e-6\u001b[39m, jac=\u001b[38;5;28;01mNone\u001b[39;00m, lband=\u001b[38;5;28;01mNone\u001b[39;00m,\n\u001b[32m    120\u001b[39m              uband=\u001b[38;5;28;01mNone\u001b[39;00m, vectorized=\u001b[38;5;28;01mFalse\u001b[39;00m, **extraneous):\n\u001b[32m    121\u001b[39m     warn_extraneous(extraneous)\n\u001b[32m--> \u001b[39m\u001b[32m122\u001b[39m     \u001b[38;5;28;43msuper\u001b[39;49m\u001b[43m(\u001b[49m\u001b[43m)\u001b[49m\u001b[43m.\u001b[49m\u001b[34;43m__init__\u001b[39;49m\u001b[43m(\u001b[49m\u001b[43mfun\u001b[49m\u001b[43m,\u001b[49m\u001b[43m \u001b[49m\u001b[43mt0\u001b[49m\u001b[43m,\u001b[49m\u001b[43m \u001b[49m\u001b[43my0\u001b[49m\u001b[43m,\u001b[49m\u001b[43m \u001b[49m\u001b[43mt_bound\u001b[49m\u001b[43m,\u001b[49m\u001b[43m \u001b[49m\u001b[43mvectorized\u001b[49m\u001b[43m)\u001b[49m\n\u001b[32m    124\u001b[39m     \u001b[38;5;28;01mif\u001b[39;00m first_step \u001b[38;5;129;01mis\u001b[39;00m \u001b[38;5;28;01mNone\u001b[39;00m:\n\u001b[32m    125\u001b[39m         first_step = \u001b[32m0\u001b[39m  \u001b[38;5;66;03m# LSODA value for automatic selection.\u001b[39;00m\n",
      "\u001b[36mFile \u001b[39m\u001b[32m~\\AppData\\Local\\Packages\\PythonSoftwareFoundation.Python.3.11_qbz5n2kfra8p0\\LocalCache\\local-packages\\Python311\\site-packages\\scipy\\integrate\\_ivp\\base.py:135\u001b[39m, in \u001b[36mOdeSolver.__init__\u001b[39m\u001b[34m(self, fun, t0, y0, t_bound, vectorized, support_complex)\u001b[39m\n\u001b[32m    133\u001b[39m \u001b[38;5;28mself\u001b[39m.t_old = \u001b[38;5;28;01mNone\u001b[39;00m\n\u001b[32m    134\u001b[39m \u001b[38;5;28mself\u001b[39m.t = t0\n\u001b[32m--> \u001b[39m\u001b[32m135\u001b[39m \u001b[38;5;28mself\u001b[39m._fun, \u001b[38;5;28mself\u001b[39m.y = \u001b[43mcheck_arguments\u001b[49m\u001b[43m(\u001b[49m\u001b[43mfun\u001b[49m\u001b[43m,\u001b[49m\u001b[43m \u001b[49m\u001b[43my0\u001b[49m\u001b[43m,\u001b[49m\u001b[43m \u001b[49m\u001b[43msupport_complex\u001b[49m\u001b[43m)\u001b[49m\n\u001b[32m    136\u001b[39m \u001b[38;5;28mself\u001b[39m.t_bound = t_bound\n\u001b[32m    137\u001b[39m \u001b[38;5;28mself\u001b[39m.vectorized = vectorized\n",
      "\u001b[36mFile \u001b[39m\u001b[32m~\\AppData\\Local\\Packages\\PythonSoftwareFoundation.Python.3.11_qbz5n2kfra8p0\\LocalCache\\local-packages\\Python311\\site-packages\\scipy\\integrate\\_ivp\\base.py:17\u001b[39m, in \u001b[36mcheck_arguments\u001b[39m\u001b[34m(fun, y0, support_complex)\u001b[39m\n\u001b[32m     14\u001b[39m y0 = y0.astype(dtype, copy=\u001b[38;5;28;01mFalse\u001b[39;00m)\n\u001b[32m     16\u001b[39m \u001b[38;5;28;01mif\u001b[39;00m y0.ndim != \u001b[32m1\u001b[39m:\n\u001b[32m---> \u001b[39m\u001b[32m17\u001b[39m     \u001b[38;5;28;01mraise\u001b[39;00m \u001b[38;5;167;01mValueError\u001b[39;00m(\u001b[33m\"\u001b[39m\u001b[33m`y0` must be 1-dimensional.\u001b[39m\u001b[33m\"\u001b[39m)\n\u001b[32m     19\u001b[39m \u001b[38;5;28;01mif\u001b[39;00m \u001b[38;5;129;01mnot\u001b[39;00m np.isfinite(y0).all():\n\u001b[32m     20\u001b[39m     \u001b[38;5;28;01mraise\u001b[39;00m \u001b[38;5;167;01mValueError\u001b[39;00m(\u001b[33m\"\u001b[39m\u001b[33mAll components of the initial state `y0` must be finite.\u001b[39m\u001b[33m\"\u001b[39m)\n",
      "\u001b[31mValueError\u001b[39m: `y0` must be 1-dimensional."
     ]
    }
   ],
   "source": [
    "p = system.init()\n",
    "y0 = np.zeros(len(Index))\n",
    "\n",
    "# use cronometer to get data\n",
    "# TODO (far in the future): connect to cronometer api?\n",
    "\n",
    "def _apple_100g(y0, scale_factor=1):\n",
    "    #ex if 200g of apples then _apple_100g(y0, 2)\n",
    "    pass\n",
    "\n",
    "def _banana_100g(y0, scale_factor=1):\n",
    "    pass\n",
    "\n",
    "def _orange_juice_100mL(y0, scale_factor=1):\n",
    "    pass\n",
    "\n",
    "def _omelette_100g(y0, scale_factor=1):\n",
    "    pass\n",
    "\n",
    "def breakfast(y0):\n",
    "    _apple_100g(y0, 2)\n",
    "    _banana_100g(y0, 2.5)\n",
    "    _orange_juice_100mL(y0, 2.5)\n",
    "    _omelette_100g(y0, 3)\n",
    "\n",
    "def _chicken_breast_100g(y0, scale_factor=1):\n",
    "    pass\n",
    "\n",
    "def _broccoli_100g(y0, scale_factor=1):\n",
    "    pass\n",
    "\n",
    "def _white_rice_100g(y0, scale_factor=1):\n",
    "    pass\n",
    "\n",
    "def lunch(y0):\n",
    "    _chicken_breast_100g(y0, 3.5)\n",
    "    _broccoli_100g(y0, 0.5)\n",
    "    _white_rice_100g(y0, 2.5)\n",
    "\n",
    "def _sphagetti_100g(y0, scale_factor=1):\n",
    "    pass\n",
    "\n",
    "def _tomato_sauce_100g(y0, scale_factor=1):\n",
    "    pass\n",
    "\n",
    "def _parmesan_100g(y0, scale_factor=1):\n",
    "    pass\n",
    "\n",
    "def dinner(y0):\n",
    "    _sphagetti_100g(y0, 5)\n",
    "    _tomato_sauce_100g(y0, 3)\n",
    "    _broccoli_100g(y0, 2.5)\n",
    "    _parmesan_100g(y0, 0.75)\n",
    "    \n",
    "\n",
    "def simulate(t_span, y0):\n",
    "    assert len(t_span) == 2\n",
    "    t_eval = np.linspace(*t_span, t_span[1] - t_span[0])\n",
    "    solution = solve_ivp(fun=lambda t, y: system.system(t, y, p),\n",
    "                        t_span=t_span,\n",
    "                        y0=y0,\n",
    "                        t_eval=t_eval,\n",
    "                        method='LSODA')\n",
    "    return solution\n",
    "\n",
    "breakfast_time = (0, 3) # 3 hours from start of breakfast till lunch\n",
    "lunch_time = (3, 9) # 6 hours until dinner\n",
    "dinner_time = (9, 24) # 15 hours till next meal\n",
    "\n",
    "y0 = np.zeros(len(Index))\n",
    "breakfast(y0)\n",
    "solution = simulate(breakfast_time, y0)\n",
    "y0 = lunch(solution.y[-1, :])\n",
    "solution = simulate(lunch_time, y0)\n",
    "y0 = dinner(solution.y[-1, :])\n",
    "solution = simulate(dinner_time, y0)"
   ]
  }
 ],
 "metadata": {
  "kernelspec": {
   "display_name": "Python 3",
   "language": "python",
   "name": "python3"
  },
  "language_info": {
   "codemirror_mode": {
    "name": "ipython",
    "version": 3
   },
   "file_extension": ".py",
   "mimetype": "text/x-python",
   "name": "python",
   "nbconvert_exporter": "python",
   "pygments_lexer": "ipython3",
   "version": "3.11.9"
  }
 },
 "nbformat": 4,
 "nbformat_minor": 2
}
