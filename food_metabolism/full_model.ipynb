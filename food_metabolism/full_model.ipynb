{
 "cells": [
  {
   "cell_type": "code",
   "execution_count": null,
   "metadata": {},
   "outputs": [],
   "source": [
    "import numpy as np\n",
    "import organs.system as system\n",
    "from organs.index import Index"
   ]
  },
  {
   "cell_type": "code",
   "execution_count": null,
   "metadata": {},
   "outputs": [],
   "source": [
    "p = system.init()\n",
    "\n",
    "n = len(Index)\n",
    "y0 = np.zeros(n)\n",
    "y0[Index.plasma_glucose] = 5.5 #gmmol\n",
    "y0[Index.plasma_insulin] = 1.2 #g/L\n",
    "y0[Index.plasma_fattyacid] = 0.4 #mmol/L\n",
    "y0[Index.plasma_aminoacid] = 0.2 #mmol/L\n",
    "y0[Index.vsc_TAG] = 10 * 1000 /p.V.vsc *.1 # NOTE: NEED UNITS\n",
    "\n",
    "# volume of skeletal muscle is ~25.0L\n",
    "y0[Index.muscle_NAD] = 1.6*(60*.4)/25 #mmol/L \n",
    "y0[Index.muscle_NADH] = 0.15*(60*.4)/25 #mmol/L\n",
    "\n",
    "#no certain data for FAD and FADH2, but assume its around 1/3 of NAD\n",
    "y0[Index.muscle_FAD] = 1.6*(60*.4)/25/3 # NOTE: NEED UNITS\n",
    "y0[Index.muscle_FADH2] = 0.15*(60*.4)/25/3 # NOTE: NEED UNITS\n",
    "\n",
    "y0[Index.gut_glucose] = 50 # NOTE: NEED UNITS\n",
    "y0[Index.gut_fructose] = 30 # NOTE: NEED UNITS\n",
    "y0[Index.plasma_fructose] = 3 # NOTE: NEED UNITS\n",
    "y0[Index.micellar_fattyacid] = 100 # NOTE: NEED UNITS"
   ]
  }
 ],
 "metadata": {
  "kernelspec": {
   "display_name": ".venv",
   "language": "python",
   "name": "python3"
  },
  "language_info": {
   "name": "python",
   "version": "3.10.12"
  }
 },
 "nbformat": 4,
 "nbformat_minor": 2
}
