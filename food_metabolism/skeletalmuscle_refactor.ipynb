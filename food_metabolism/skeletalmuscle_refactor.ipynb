{
 "cells": [
  {
   "cell_type": "code",
<<<<<<< HEAD
   "execution_count": 3,
=======
   "execution_count": null,
>>>>>>> c50ce4630345de21f8dd3b0b4d2f907aba06c297
   "id": "80cd0943",
   "metadata": {},
   "outputs": [
    {
<<<<<<< HEAD
     "data": {
      "text/plain": [
       "Parameters(V=Volumes(plasma=5.0, gut=0.0, liver=0.0, fat=0.0, muscle=25.0, pancreas=0.0, brain=0.0), shared=SharedRates(k_P_to_ACoA=1, k_ACoA_to_P=5, k_FA_to_ACoA=0.125, k_AA_to_ACoA=0.25, k_AcoA_to_FA=0.0, k_G_to_G6P=1, k_G6P_to_G=0.1, k_P_to_G6P=0.1, k_G6P_to_P=1), CL=ClearanceRates(kCL_insulin=1, kCL_ATP=1, kCL_G=0.0, kCL_F=0.0, kCL_FA=0.0), M=MuscleParameters(k_insulin_from_plasma=5, k_insulin_to_plasma=0.5, k_FA_from_plasma=1, k_FA_to_plasma=0.1, k_G_from_plasma=1, k_G_to_plasma=0.1, k_AA_from_plasma=1, k_AA_to_plasma=0.1, k_L_from_plasma=0.1, k_L_to_plasma=1, NADH_ETC=1, FADH2_ETC=1, k_Glc_to_G6P=1, k_G6P_to_Glc=0.1, k_P_to_L=0.1, k_L_to_P=0.1), F=FatParameters(k_insulin_from_plasma=0.0, k_insulin_to_plasma=0.0, k_FA_from_plasma=0.0, k_FA_to_plasma=0.0, k_G_from_plasma=0.0, k_G_to_plasma=0.0, k_AA_from_plasma=0.0, k_AA_to_plasma=0.0, k_FA_to_TAG=0.0, k_TAG_to_FA=0.0), GI=GIParameters(kabs_G=0.0, kabs_F=0.0, kabs_FA=0.0, k_diffusion_micelle_to_membrane=0.0, k_Vmax_trans=0.0, k_Vmax_reester=0.0, k_Vmax_export=0.0, Km_trans=0.0, Km_reester=0.0, Km_export=0.0))"
      ]
     },
     "execution_count": 3,
     "metadata": {},
     "output_type": "execute_result"
=======
     "ename": "",
     "evalue": "",
     "output_type": "error",
     "traceback": [
      "\u001b[1;31mRunning cells with '.venv (Python 3.10.12)' requires the ipykernel package.\n",
      "\u001b[1;31mRun the following command to install 'ipykernel' into the Python environment. \n",
      "\u001b[1;31mCommand: '/home/vivek/repos/pkpd/food_metabolism/.venv/bin/python -m pip install ipykernel -U --force-reinstall'"
     ]
>>>>>>> c50ce4630345de21f8dd3b0b4d2f907aba06c297
    }
   ],
   "source": [
    "import numpy as np\n",
    "import matplotlib.pyplot as plt\n",
    "from scipy.integrate import solve_ivp\n",
    "from muscleFunctions import muscle_init, skeletalmuscle\n",
    "\n",
    "muscle_init()"
   ]
  },
  {
   "cell_type": "code",
<<<<<<< HEAD
   "execution_count": 4,
   "id": "5ee4bd7b",
   "metadata": {},
   "outputs": [
    {
     "ename": "NameError",
     "evalue": "name 'p' is not defined",
     "output_type": "error",
     "traceback": [
      "\u001b[31m---------------------------------------------------------------------------\u001b[39m",
      "\u001b[31mNameError\u001b[39m                                 Traceback (most recent call last)",
      "\u001b[36mCell\u001b[39m\u001b[36m \u001b[39m\u001b[32mIn[4]\u001b[39m\u001b[32m, line 34\u001b[39m\n\u001b[32m     30\u001b[39m t_span = (\u001b[32m0\u001b[39m, \u001b[32m10\u001b[39m)\n\u001b[32m     31\u001b[39m t_eval = np.linspace(t_span[\u001b[32m0\u001b[39m], t_span[\u001b[32m1\u001b[39m], \u001b[32m100\u001b[39m)\n\u001b[32m---> \u001b[39m\u001b[32m34\u001b[39m solution = \u001b[43msolve_ivp\u001b[49m\u001b[43m(\u001b[49m\u001b[43mfun\u001b[49m\u001b[43m=\u001b[49m\u001b[38;5;28;43;01mlambda\u001b[39;49;00m\u001b[43m \u001b[49m\u001b[43mt\u001b[49m\u001b[43m,\u001b[49m\u001b[43m \u001b[49m\u001b[43my\u001b[49m\u001b[43m:\u001b[49m\u001b[43m \u001b[49m\u001b[43mskeletalmuscle\u001b[49m\u001b[43m(\u001b[49m\u001b[43mt\u001b[49m\u001b[43m,\u001b[49m\u001b[43m \u001b[49m\u001b[43my\u001b[49m\u001b[43m,\u001b[49m\u001b[43m \u001b[49m\u001b[43mp\u001b[49m\u001b[43m)\u001b[49m\u001b[43m,\u001b[49m\n\u001b[32m     35\u001b[39m \u001b[43m                     \u001b[49m\u001b[43mt_span\u001b[49m\u001b[43m=\u001b[49m\u001b[43mt_span\u001b[49m\u001b[43m,\u001b[49m\n\u001b[32m     36\u001b[39m \u001b[43m                     \u001b[49m\u001b[43my0\u001b[49m\u001b[43m=\u001b[49m\u001b[43my0\u001b[49m\u001b[43m,\u001b[49m\n\u001b[32m     37\u001b[39m \u001b[43m                     \u001b[49m\u001b[43mt_eval\u001b[49m\u001b[43m=\u001b[49m\u001b[43mt_eval\u001b[49m\u001b[43m,\u001b[49m\n\u001b[32m     38\u001b[39m \u001b[43m                     \u001b[49m\u001b[43mmethod\u001b[49m\u001b[43m=\u001b[49m\u001b[33;43m'\u001b[39;49m\u001b[33;43mLSODA\u001b[39;49m\u001b[33;43m'\u001b[39;49m\u001b[43m)\u001b[49m\n\u001b[32m     40\u001b[39m timespan = solution.t   \n\u001b[32m     41\u001b[39m glucoseplasma = solution.y[\u001b[32m0\u001b[39m]\n",
      "\u001b[36mFile \u001b[39m\u001b[32m~\\AppData\\Local\\Packages\\PythonSoftwareFoundation.Python.3.11_qbz5n2kfra8p0\\LocalCache\\local-packages\\Python311\\site-packages\\scipy\\integrate\\_ivp\\ivp.py:655\u001b[39m, in \u001b[36msolve_ivp\u001b[39m\u001b[34m(fun, t_span, y0, method, t_eval, dense_output, events, vectorized, args, **options)\u001b[39m\n\u001b[32m    653\u001b[39m status = \u001b[38;5;28;01mNone\u001b[39;00m\n\u001b[32m    654\u001b[39m \u001b[38;5;28;01mwhile\u001b[39;00m status \u001b[38;5;129;01mis\u001b[39;00m \u001b[38;5;28;01mNone\u001b[39;00m:\n\u001b[32m--> \u001b[39m\u001b[32m655\u001b[39m     message = \u001b[43msolver\u001b[49m\u001b[43m.\u001b[49m\u001b[43mstep\u001b[49m\u001b[43m(\u001b[49m\u001b[43m)\u001b[49m\n\u001b[32m    657\u001b[39m     \u001b[38;5;28;01mif\u001b[39;00m solver.status == \u001b[33m'\u001b[39m\u001b[33mfinished\u001b[39m\u001b[33m'\u001b[39m:\n\u001b[32m    658\u001b[39m         status = \u001b[32m0\u001b[39m\n",
      "\u001b[36mFile \u001b[39m\u001b[32m~\\AppData\\Local\\Packages\\PythonSoftwareFoundation.Python.3.11_qbz5n2kfra8p0\\LocalCache\\local-packages\\Python311\\site-packages\\scipy\\integrate\\_ivp\\base.py:197\u001b[39m, in \u001b[36mOdeSolver.step\u001b[39m\u001b[34m(self)\u001b[39m\n\u001b[32m    195\u001b[39m \u001b[38;5;28;01melse\u001b[39;00m:\n\u001b[32m    196\u001b[39m     t = \u001b[38;5;28mself\u001b[39m.t\n\u001b[32m--> \u001b[39m\u001b[32m197\u001b[39m     success, message = \u001b[38;5;28;43mself\u001b[39;49m\u001b[43m.\u001b[49m\u001b[43m_step_impl\u001b[49m\u001b[43m(\u001b[49m\u001b[43m)\u001b[49m\n\u001b[32m    199\u001b[39m     \u001b[38;5;28;01mif\u001b[39;00m \u001b[38;5;129;01mnot\u001b[39;00m success:\n\u001b[32m    200\u001b[39m         \u001b[38;5;28mself\u001b[39m.status = \u001b[33m'\u001b[39m\u001b[33mfailed\u001b[39m\u001b[33m'\u001b[39m\n",
      "\u001b[36mFile \u001b[39m\u001b[32m~\\AppData\\Local\\Packages\\PythonSoftwareFoundation.Python.3.11_qbz5n2kfra8p0\\LocalCache\\local-packages\\Python311\\site-packages\\scipy\\integrate\\_ivp\\lsoda.py:161\u001b[39m, in \u001b[36mLSODA._step_impl\u001b[39m\u001b[34m(self)\u001b[39m\n\u001b[32m    159\u001b[39m itask = integrator.call_args[\u001b[32m2\u001b[39m]\n\u001b[32m    160\u001b[39m integrator.call_args[\u001b[32m2\u001b[39m] = \u001b[32m5\u001b[39m\n\u001b[32m--> \u001b[39m\u001b[32m161\u001b[39m solver._y, solver.t = \u001b[43mintegrator\u001b[49m\u001b[43m.\u001b[49m\u001b[43mrun\u001b[49m\u001b[43m(\u001b[49m\n\u001b[32m    162\u001b[39m \u001b[43m    \u001b[49m\u001b[43msolver\u001b[49m\u001b[43m.\u001b[49m\u001b[43mf\u001b[49m\u001b[43m,\u001b[49m\u001b[43m \u001b[49m\u001b[43msolver\u001b[49m\u001b[43m.\u001b[49m\u001b[43mjac\u001b[49m\u001b[43m \u001b[49m\u001b[38;5;129;43;01mor\u001b[39;49;00m\u001b[43m \u001b[49m\u001b[43m(\u001b[49m\u001b[38;5;28;43;01mlambda\u001b[39;49;00m\u001b[43m:\u001b[49m\u001b[43m \u001b[49m\u001b[38;5;28;43;01mNone\u001b[39;49;00m\u001b[43m)\u001b[49m\u001b[43m,\u001b[49m\u001b[43m \u001b[49m\u001b[43msolver\u001b[49m\u001b[43m.\u001b[49m\u001b[43m_y\u001b[49m\u001b[43m,\u001b[49m\u001b[43m \u001b[49m\u001b[43msolver\u001b[49m\u001b[43m.\u001b[49m\u001b[43mt\u001b[49m\u001b[43m,\u001b[49m\n\u001b[32m    163\u001b[39m \u001b[43m    \u001b[49m\u001b[38;5;28;43mself\u001b[39;49m\u001b[43m.\u001b[49m\u001b[43mt_bound\u001b[49m\u001b[43m,\u001b[49m\u001b[43m \u001b[49m\u001b[43msolver\u001b[49m\u001b[43m.\u001b[49m\u001b[43mf_params\u001b[49m\u001b[43m,\u001b[49m\u001b[43m \u001b[49m\u001b[43msolver\u001b[49m\u001b[43m.\u001b[49m\u001b[43mjac_params\u001b[49m\u001b[43m)\u001b[49m\n\u001b[32m    164\u001b[39m integrator.call_args[\u001b[32m2\u001b[39m] = itask\n\u001b[32m    166\u001b[39m \u001b[38;5;28;01mif\u001b[39;00m solver.successful():\n",
      "\u001b[36mFile \u001b[39m\u001b[32m~\\AppData\\Local\\Packages\\PythonSoftwareFoundation.Python.3.11_qbz5n2kfra8p0\\LocalCache\\local-packages\\Python311\\site-packages\\scipy\\integrate\\_ode.py:1358\u001b[39m, in \u001b[36mlsoda.run\u001b[39m\u001b[34m(self, f, jac, y0, t0, t1, f_params, jac_params)\u001b[39m\n\u001b[32m   1354\u001b[39m args = [f, y0, t0, t1] + \u001b[38;5;28mself\u001b[39m.call_args[:-\u001b[32m1\u001b[39m] + \\\n\u001b[32m   1355\u001b[39m        [jac, \u001b[38;5;28mself\u001b[39m.call_args[-\u001b[32m1\u001b[39m], f_params, \u001b[32m0\u001b[39m, jac_params]\n\u001b[32m   1357\u001b[39m \u001b[38;5;28;01mwith\u001b[39;00m LSODA_LOCK:\n\u001b[32m-> \u001b[39m\u001b[32m1358\u001b[39m     y1, t, istate = \u001b[38;5;28;43mself\u001b[39;49m\u001b[43m.\u001b[49m\u001b[43mrunner\u001b[49m\u001b[43m(\u001b[49m\u001b[43m*\u001b[49m\u001b[43margs\u001b[49m\u001b[43m)\u001b[49m\n\u001b[32m   1360\u001b[39m \u001b[38;5;28mself\u001b[39m.istate = istate\n\u001b[32m   1361\u001b[39m \u001b[38;5;28;01mif\u001b[39;00m istate < \u001b[32m0\u001b[39m:\n",
      "\u001b[36mFile \u001b[39m\u001b[32m~\\AppData\\Local\\Packages\\PythonSoftwareFoundation.Python.3.11_qbz5n2kfra8p0\\LocalCache\\local-packages\\Python311\\site-packages\\scipy\\integrate\\_ivp\\base.py:154\u001b[39m, in \u001b[36mOdeSolver.__init__.<locals>.fun\u001b[39m\u001b[34m(t, y)\u001b[39m\n\u001b[32m    152\u001b[39m \u001b[38;5;28;01mdef\u001b[39;00m\u001b[38;5;250m \u001b[39m\u001b[34mfun\u001b[39m(t, y):\n\u001b[32m    153\u001b[39m     \u001b[38;5;28mself\u001b[39m.nfev += \u001b[32m1\u001b[39m\n\u001b[32m--> \u001b[39m\u001b[32m154\u001b[39m     \u001b[38;5;28;01mreturn\u001b[39;00m \u001b[38;5;28;43mself\u001b[39;49m\u001b[43m.\u001b[49m\u001b[43mfun_single\u001b[49m\u001b[43m(\u001b[49m\u001b[43mt\u001b[49m\u001b[43m,\u001b[49m\u001b[43m \u001b[49m\u001b[43my\u001b[49m\u001b[43m)\u001b[49m\n",
      "\u001b[36mFile \u001b[39m\u001b[32m~\\AppData\\Local\\Packages\\PythonSoftwareFoundation.Python.3.11_qbz5n2kfra8p0\\LocalCache\\local-packages\\Python311\\site-packages\\scipy\\integrate\\_ivp\\base.py:23\u001b[39m, in \u001b[36mcheck_arguments.<locals>.fun_wrapped\u001b[39m\u001b[34m(t, y)\u001b[39m\n\u001b[32m     22\u001b[39m \u001b[38;5;28;01mdef\u001b[39;00m\u001b[38;5;250m \u001b[39m\u001b[34mfun_wrapped\u001b[39m(t, y):\n\u001b[32m---> \u001b[39m\u001b[32m23\u001b[39m     \u001b[38;5;28;01mreturn\u001b[39;00m np.asarray(\u001b[43mfun\u001b[49m\u001b[43m(\u001b[49m\u001b[43mt\u001b[49m\u001b[43m,\u001b[49m\u001b[43m \u001b[49m\u001b[43my\u001b[49m\u001b[43m)\u001b[49m, dtype=dtype)\n",
      "\u001b[36mCell\u001b[39m\u001b[36m \u001b[39m\u001b[32mIn[4]\u001b[39m\u001b[32m, line 34\u001b[39m, in \u001b[36m<lambda>\u001b[39m\u001b[34m(t, y)\u001b[39m\n\u001b[32m     30\u001b[39m t_span = (\u001b[32m0\u001b[39m, \u001b[32m10\u001b[39m)\n\u001b[32m     31\u001b[39m t_eval = np.linspace(t_span[\u001b[32m0\u001b[39m], t_span[\u001b[32m1\u001b[39m], \u001b[32m100\u001b[39m)\n\u001b[32m---> \u001b[39m\u001b[32m34\u001b[39m solution = solve_ivp(fun=\u001b[38;5;28;01mlambda\u001b[39;00m t, y: skeletalmuscle(t, y, \u001b[43mp\u001b[49m),\n\u001b[32m     35\u001b[39m                      t_span=t_span,\n\u001b[32m     36\u001b[39m                      y0=y0,\n\u001b[32m     37\u001b[39m                      t_eval=t_eval,\n\u001b[32m     38\u001b[39m                      method=\u001b[33m'\u001b[39m\u001b[33mLSODA\u001b[39m\u001b[33m'\u001b[39m)\n\u001b[32m     40\u001b[39m timespan = solution.t   \n\u001b[32m     41\u001b[39m glucoseplasma = solution.y[\u001b[32m0\u001b[39m]\n",
      "\u001b[31mNameError\u001b[39m: name 'p' is not defined"
     ]
    }
   ],
=======
   "execution_count": null,
   "id": "5ee4bd7b",
   "metadata": {},
   "outputs": [],
>>>>>>> c50ce4630345de21f8dd3b0b4d2f907aba06c297
   "source": [
    "#\n",
    "# TRY NUMPY.RAND\n",
    "# check metabolical for ROS generation\n",
    "# beta oxidation of fatty acids\n",
    "#\n",
<<<<<<< HEAD
    "n=20\n",
=======
>>>>>>> c50ce4630345de21f8dd3b0b4d2f907aba06c297
    "y0 = np.zeros(n)\n",
    "y0[0] = 5.5 #gmmol\n",
    "y0[2] = 1.2 #g/L\n",
    "y0[4] = 0.4 #mmol/L\n",
    "y0[6] = 0.2 #mmol/L\n",
    "\n",
    "#https://link.springer.com/article/10.1007/s40279-022-01772-2\n",
    "#average weight of person is around 60 kg,\n",
    "# skeletal muscle is around 40% of weight\n",
    "# NAD and NADH concentrations estimated to be around 1.6 mmol/kg and 0.15 mmol/kg muscle weight\n",
    "#\n",
    "# volume of skeletal muscle is ~25.0L\n",
    "y0[12] = 1.6*(60*.4)/25 #mmol/L \n",
    "y0[13] = 0.15*(60*.4)/25 #mmol/L\n",
    "\n",
    "#no certain data for FAD and FADH2, but assume its around 1/3 of NAD\n",
    "y0[14] = 1.6*(60*.4)/25/3\n",
    "y0[15] = 0.15*(60*.4)/25/3\n",
    "\n",
    "\n",
    "\n",
    "\n",
    "\n",
    "t_span = (0, 10)\n",
    "t_eval = np.linspace(t_span[0], t_span[1], 100)\n",
    "\n",
    "\n",
    "solution = solve_ivp(fun=lambda t, y: skeletalmuscle(t, y, p),\n",
    "                     t_span=t_span,\n",
    "                     y0=y0,\n",
    "                     t_eval=t_eval,\n",
    "                     method='LSODA')\n",
    "\n",
    "timespan = solution.t   \n",
    "glucoseplasma = solution.y[0]\n",
    "glucosemuscle = solution.y[1]\n",
    "glycogen = solution.y[9]\n",
    "\n",
    "# Plotting\n",
    "plt.figure(figsize=(12, 8))\n",
    "\n",
    "plt.subplot(3, 2, 1)\n",
    "plt.plot(timespan, glucoseplasma, label='Plasma', color='red')\n",
    "plt.plot(timespan, glucosemuscle, label='Muscle', color='blue')\n",
    "plt.xlabel('Time')\n",
    "plt.ylabel('Concentration')\n",
    "plt.title('Glucose Concentration over Time')\n",
    "plt.legend()\n",
    "plt.grid(True)\n",
    "\n",
    "plt.subplot(3, 2, 2)\n",
    "plt.plot(timespan, solution.y[2], label='Plasma', color='red')\n",
    "plt.plot(timespan, solution.y[3], label='Muscle', color='blue')\n",
    "plt.xlabel('Time')\n",
    "plt.ylabel('Concentration')\n",
    "plt.title('Insulin Concentration over Time')\n",
    "plt.legend()\n",
    "plt.grid(True)\n",
    "\n",
    "plt.subplot(3, 2, 3)\n",
    "plt.plot(timespan, solution.y[4], label='Plasma', color='red')\n",
    "plt.plot(timespan, solution.y[5], label='Muscle', color='blue')\n",
    "plt.xlabel('Time')\n",
    "plt.ylabel('Concentration')\n",
    "plt.title('Fatty Acid Concentration over Time')\n",
    "plt.legend()\n",
    "plt.grid(True)\n",
    "\n",
    "plt.subplot(3, 2, 4)\n",
    "plt.plot(timespan, solution.y[6], label='Plasma', color='red')\n",
    "plt.plot(timespan, solution.y[7], label='Muscle', color='blue')\n",
    "plt.xlabel('Time')\n",
    "plt.ylabel('Concentration')\n",
    "plt.title('Amino Acid Concentration over Time')\n",
    "plt.legend()\n",
    "plt.grid(True)\n",
    "\n",
    "plt.subplot(3, 2, 5)\n",
    "plt.plot(timespan, solution.y[18], label='Plasma', color='red')\n",
    "plt.plot(timespan, solution.y[19], label='Muscle', color='blue')\n",
    "plt.xlabel('Time')\n",
    "plt.ylabel('Concentration')\n",
    "plt.title('Lactate Concentration over Time')\n",
    "plt.legend()\n",
    "plt.grid(True)\n",
    "\n",
    "plt.tight_layout()\n",
    "plt.show()"
   ]
  },
  {
   "cell_type": "code",
   "execution_count": null,
   "id": "f2f90b13",
   "metadata": {},
   "outputs": [],
   "source": [
    "plt.figure(figsize=(6, 9))\n",
    "plt.subplot(2, 1, 1)\n",
    "plt.plot(timespan, solution.y[0], label='Glucose')\n",
    "plt.plot(timespan, solution.y[2], label='Insulin')\n",
    "plt.plot(timespan, solution.y[4], label='Fatty Acids')\n",
    "plt.plot(timespan, solution.y[6], label='Amino Acids')\n",
    "plt.plot(timespan, solution.y[18], label='Lactate')\n",
    "plt.xlabel('Time')\n",
    "plt.ylabel('Concentration')\n",
    "plt.title('Plasma Concentration over Time')\n",
    "plt.legend()\n",
    "plt.grid(True)\n",
    "plt.subplot(2, 1, 2)\n",
    "plt.plot(timespan, solution.y[1], label='Glucose')\n",
    "plt.plot(timespan, solution.y[3], label='Insulin')\n",
    "plt.plot(timespan, solution.y[5], label='Fatty Acids')\n",
    "plt.plot(timespan, solution.y[7], label='Amino Acids')\n",
    "plt.plot(timespan, solution.y[19], label='Lactate')\n",
    "plt.xlabel('Time')\n",
    "plt.ylabel('Concentration')\n",
    "plt.title('Muscle Concentration over Time')\n",
    "plt.legend()\n",
    "plt.grid(True)"
   ]
  },
  {
   "cell_type": "code",
   "execution_count": null,
   "id": "ab4359f6",
   "metadata": {},
   "outputs": [],
   "source": [
    "plt.figure(figsize=(6, 9))\n",
    "plt.subplot(2, 1, 1)\n",
    "plt.plot(timespan, solution.y[1], label='Glucose')\n",
    "plt.plot(timespan, solution.y[8], label='G6P')\n",
    "plt.plot(timespan, solution.y[9], label='Glycogen')\n",
    "plt.plot(timespan, solution.y[10], label='Pyruvate')\n",
    "plt.plot(timespan, solution.y[11], label='AcetylCoA')\n",
    "plt.plot(timespan, solution.y[17], label='ATP')\n",
    "plt.xlabel('Time')\n",
    "plt.ylabel('Concentration')\n",
    "plt.title('Muscle Concentration over Time')\n",
    "plt.legend()\n",
    "plt.grid(True)\n",
    "\n",
    "plt.subplot(2, 1, 2)\n",
    "plt.plot(timespan, solution.y[11], label='AcetylCoA')\n",
    "plt.plot(timespan, solution.y[12], label='NAD')\n",
    "plt.plot(timespan, solution.y[13], label='NADH')\n",
    "plt.plot(timespan, solution.y[14], label='FAD')\n",
    "plt.plot(timespan, solution.y[15], label='FADH2')\n",
    "plt.plot(timespan, solution.y[17], label='ATP')\n",
    "plt.xlabel('Time')\n",
    "plt.ylabel('Concentration')\n",
    "plt.title('Muscle Concentration over Time')\n",
    "plt.legend()\n",
    "plt.grid(True)"
   ]
  },
  {
   "cell_type": "code",
   "execution_count": null,
   "id": "0a5498eb",
   "metadata": {},
   "outputs": [],
   "source": [
    "plt.subplot(2, 1, 1)\n",
    "plt.plot(timespan, solution.y[17], label='ATP')\n",
    "\n",
    "\n",
    "plt.ylabel('Concentration')\n",
    "plt.title('Oxidative Stress')\n",
    "plt.legend()\n",
    "plt.grid(True)\n",
    "plt.subplot(2, 1, 2)\n",
    "\n",
    "plt.plot(timespan, solution.y[16], label='ROS', color='orange')\n",
    "plt.xlabel('Time')\n",
    "plt.ylabel('Concentration')\n",
    "\n",
    "plt.legend()\n",
    "plt.grid(True)"
   ]
  }
 ],
 "metadata": {
  "kernelspec": {
<<<<<<< HEAD
   "display_name": "Python 3",
=======
   "display_name": ".venv",
>>>>>>> c50ce4630345de21f8dd3b0b4d2f907aba06c297
   "language": "python",
   "name": "python3"
  },
  "language_info": {
   "codemirror_mode": {
    "name": "ipython",
    "version": 3
   },
   "file_extension": ".py",
   "mimetype": "text/x-python",
   "name": "python",
   "nbconvert_exporter": "python",
   "pygments_lexer": "ipython3",
<<<<<<< HEAD
   "version": "3.11.9"
=======
   "version": "3.10.12"
>>>>>>> c50ce4630345de21f8dd3b0b4d2f907aba06c297
  }
 },
 "nbformat": 4,
 "nbformat_minor": 5
}
