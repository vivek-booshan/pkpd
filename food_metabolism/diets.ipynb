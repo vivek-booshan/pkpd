{
 "cells": [
  {
   "cell_type": "code",
   "execution_count": null,
   "metadata": {},
   "outputs": [],
   "source": [
    "import numpy as np\n",
    "import matplotlib.pyplot as plt\n",
    "from scipy.integrate import solve_ivp\n",
    "import organs.system as system\n",
    "from organs.index import Index"
   ]
  },
  {
   "cell_type": "code",
   "execution_count": null,
   "metadata": {},
   "outputs": [],
   "source": [
    "def soda(y0):\n",
    "    y0[Index.gut_glucose] += None\n",
    "    y0[Index.gut_fructose] += None\n",
    "    # TODO (not yet implemented): y0[Index.gut_fattyacid] += None\n",
    "    # TODO (not yet implemetned): y0[Index.gut_aminoacid] += None\n",
    "\n",
    "def lays_chips(y0):\n",
    "    pass\n",
    "\n",
    "def mcdouble(y0): \n",
    "    pass\n",
    "\n",
    "def ice_cream(y0):\n",
    "    pass\n",
    "\n",
    "p = system.init()\n",
    "y0 = np.zeros(len(Index))\n",
    "# NOTE: see how i'm just passing the initial condition through each food to just add the components\n",
    "soda(y0)\n",
    "lays_chips(y0)\n",
    "mcdouble(y0)\n",
    "\n",
    "t_span = (0, 300)\n",
    "t_eval = np.linspace(*t_span, 300)\n",
    "solution = solve_ivp(fun=lambda t, y: system.system(t, y, p),\n",
    "                     t_span=t_span,\n",
    "                     y0=y0,\n",
    "                     t_eval=t_eval,\n",
    "                     method='LSODA')\n",
    "\n",
    "t = solution.t\n",
    "y = solution.y"
   ]
  }
 ],
 "metadata": {
  "kernelspec": {
   "display_name": ".venv",
   "language": "python",
   "name": "python3"
  },
  "language_info": {
   "name": "python",
   "version": "3.10.12"
  }
 },
 "nbformat": 4,
 "nbformat_minor": 2
}
